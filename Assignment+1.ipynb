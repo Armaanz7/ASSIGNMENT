{
 "cells": [
  {
   "cell_type": "markdown",
   "metadata": {},
   "source": [
    "1. Write a program which will find all such numbers which are divisible by 7 but are not a multiple of 5, between 2000 and 3200 (both included). The numbers obtained should be printed in a comma-separated sequence on a single line."
   ]
  },
  {
   "cell_type": "code",
   "execution_count": 1,
   "metadata": {},
   "outputs": [
    {
     "name": "stdout",
     "output_type": "stream",
     "text": [
      "[2016, 2051, 2086, 2121, 2156, 2191, 2226, 2261, 2296, 2331, 2366, 2401, 2436, 2471, 2506, 2541, 2576, 2611, 2646, 2681, 2716, 2751, 2786, 2821, 2856, 2891, 2926, 2961, 2996, 3031, 3066, 3101, 3136, 3171]\n"
     ]
    }
   ],
   "source": [
    "w=[]\n",
    "for i in range(2000,3200):\n",
    "    if i % 7 == 0 and i % 5 == 1:\n",
    "        w.append(i)\n",
    "       \n",
    "        \n",
    "        \n",
    "        \n",
    "print((w),sep=\",\")"
   ]
  },
  {
   "cell_type": "markdown",
   "metadata": {},
   "source": [
    "2. Write a Python program to accept the user's first and last name and then getting them printed in the the reverse order with a space between first name and last name"
   ]
  },
  {
   "cell_type": "code",
   "execution_count": 3,
   "metadata": {},
   "outputs": [
    {
     "name": "stdout",
     "output_type": "stream",
     "text": [
      "Enter a name:Sudhanshu\n",
      "Enter last name:Kumar\n",
      "uhsnahduS ramuK "
     ]
    }
   ],
   "source": [
    "a=input('Enter a name:')\n",
    "b=input('Enter last name:')\n",
    "print(a[::-1], b[::-1],end=\" \")"
   ]
  },
  {
   "cell_type": "markdown",
   "metadata": {},
   "source": [
    "3. Write a Python program to find the volume of a sphere with diameter 12 cm. \n",
    "  Formula = V=4/3 * π * r^3"
   ]
  },
  {
   "cell_type": "markdown",
   "metadata": {
    "collapsed": true
   },
   "source": [
    "Given:diameter of sphere d= 12 cm\n",
    "To find:Volume of Sphere\n",
    "Solution:\n",
    "V=4/3*π r^3\n",
    "r is calculated as d/2\n",
    "12/2 is 6cm\n",
    "\n",
    "\n"
   ]
  },
  {
   "cell_type": "code",
   "execution_count": 2,
   "metadata": {},
   "outputs": [
    {
     "name": "stdout",
     "output_type": "stream",
     "text": [
      "904.3199999999999\n"
     ]
    }
   ],
   "source": [
    "V=4/3*3.14*6**3\n",
    "print(V)"
   ]
  },
  {
   "cell_type": "markdown",
   "metadata": {},
   "source": [
    "Note:I have used the standard value of pi so as to calculate volume without importing math library\n",
    "correct me if i am wrong"
   ]
  },
  {
   "cell_type": "code",
   "execution_count": null,
   "metadata": {},
   "outputs": [],
   "source": []
  },
  {
   "cell_type": "code",
   "execution_count": null,
   "metadata": {
    "collapsed": true
   },
   "outputs": [],
   "source": []
  }
 ],
 "metadata": {
  "kernelspec": {
   "display_name": "Python 3",
   "language": "python",
   "name": "python3"
  },
  "language_info": {
   "codemirror_mode": {
    "name": "ipython",
    "version": 3
   },
   "file_extension": ".py",
   "mimetype": "text/x-python",
   "name": "python",
   "nbconvert_exporter": "python",
   "pygments_lexer": "ipython3",
   "version": "3.6.3"
  }
 },
 "nbformat": 4,
 "nbformat_minor": 2
}
